{
 "cells": [
  {
   "cell_type": "markdown",
   "metadata": {},
   "source": [
    "# Classification with `pyani` output\n",
    "\n",
    "This notebook contains experiments in generating *continuous* classifications from `pyani` output. The general principle is as follows:\n",
    "\n",
    "1. Generate a graph with each isolate as a node, whose edges contain information about %identity and %coverage for the pairwise comparison between genomes\n",
    "2. Prune the graph by removing edges that fall below a minimum level of %coverage.\n",
    "3. Identify all (*k*-complete) graphs at this level, and note the minimum %identity *i*\n",
    "\n",
    "Then, for each of the initial graphs:\n",
    "\n",
    "* Progressively prune the graph edges, from lowest to highest %identity.\n",
    "* When a *k*-complete graph is noted, we record this as a specific grouping/classification as $G_{m,n}$ where $m$ is the %coverage used to construct the initial graph, and $n$ is the %identity at which the $k$-complete graph is first observed."
   ]
  },
  {
   "cell_type": "markdown",
   "metadata": {},
   "source": [
    "# Implementing the algorithm"
   ]
  },
  {
   "cell_type": "markdown",
   "metadata": {},
   "source": [
    "### Python dependencies\n",
    "\n",
    "We're using `networkx` for the graph manipulations, and `pygraphviz` for some rendering."
   ]
  },
  {
   "cell_type": "code",
   "execution_count": null,
   "metadata": {
    "collapsed": false
   },
   "outputs": [],
   "source": [
    "%pylab inline\n",
    "\n",
    "import pandas as pd\n",
    "import networkx as nx"
   ]
  },
  {
   "cell_type": "markdown",
   "metadata": {},
   "source": [
    "## Initial Graph construction\n",
    "\n",
    "Load the coverage and identity data as `Pandas` dataframes:"
   ]
  },
  {
   "cell_type": "code",
   "execution_count": null,
   "metadata": {
    "collapsed": true
   },
   "outputs": [],
   "source": [
    "# Data from a Buchnera comparison\n",
    "covfile = \"Buchnera_ANIm/ANIm_alignment_coverage.tab\"\n",
    "idfile = \"Buchnera_ANIm/ANIm_percentage_identity.tab\"\n",
    "\n",
    "# Load pyani outputs into dataframes\n",
    "covdata = pd.DataFrame.from_csv(covfile, sep='\\t')\n",
    "iddata = pd.DataFrame.from_csv(idfile, sep='\\t')"
   ]
  },
  {
   "cell_type": "markdown",
   "metadata": {},
   "source": [
    "Create nodes and edges for an undirected graph with the *minimal* coverage (identity should be the same in both directions)"
   ]
  },
  {
   "cell_type": "code",
   "execution_count": null,
   "metadata": {
    "collapsed": false
   },
   "outputs": [],
   "source": [
    "# Our node names will be the isolate IDs\n",
    "node_names = covdata.columns\n",
    "\n",
    "# Loop over each isolate ID and get all coverage/identity values\n",
    "rows_list = []\n",
    "for idx, node_from in enumerate(node_names[:-1]):\n",
    "    for node_to in node_names[idx+1:]:\n",
    "        datadict = {'from': node_from,\n",
    "                    'to': node_to,\n",
    "                    'coverage': min(covdata[node_from][node_to],\n",
    "                                    covdata[node_to][node_from]),\n",
    "                    'identity': iddata[node_from][node_to]}\n",
    "        rows_list.append(datadict)\n",
    "\n",
    "# Create dataframe of from/to nodes, coverage and identity (in that order)\n",
    "node_data = pd.DataFrame(rows_list, columns=['from', 'to', 'coverage', 'identity'])"
   ]
  },
  {
   "cell_type": "markdown",
   "metadata": {},
   "source": [
    "Build a `networkx` undirected graph from this data"
   ]
  },
  {
   "cell_type": "code",
   "execution_count": null,
   "metadata": {
    "collapsed": false
   },
   "outputs": [],
   "source": [
    "# Create graph\n",
    "G = nx.Graph()\n",
    "\n",
    "# Function to add an edge to the graph\n",
    "def add_edge(row, graph, cov_thresh=0.5):\n",
    "    if row['coverage'] >= cov_thresh:\n",
    "        graph.add_edge(row['from'], row['to'],\n",
    "                       coverage=row['coverage'],\n",
    "                       identity=row['identity'],\n",
    "                       difference=1-row['identity'],\n",
    "                       logident=abs(log(row['identity'])))\n",
    "\n",
    "# Add nodes, then loop over rows in node data, adding edges\n",
    "for node in node_names:\n",
    "    G.add_node(node)\n",
    "\n",
    "errs = node_data.apply(add_edge, axis=1, args=(G,), cov_thresh=0.5)"
   ]
  },
  {
   "cell_type": "markdown",
   "metadata": {},
   "source": [
    "Visualising the graph with `pylab`:"
   ]
  },
  {
   "cell_type": "code",
   "execution_count": null,
   "metadata": {
    "collapsed": false
   },
   "outputs": [],
   "source": [
    "pos = nx.spring_layout(G, weight='identity')\n",
    "nx.draw(G, pos)"
   ]
  },
  {
   "cell_type": "code",
   "execution_count": null,
   "metadata": {
    "collapsed": false
   },
   "outputs": [],
   "source": [
    "pos = nx.spring_layout(G, weight='difference')\n",
    "nx.draw(G, pos)"
   ]
  },
  {
   "cell_type": "code",
   "execution_count": null,
   "metadata": {
    "collapsed": false
   },
   "outputs": [],
   "source": [
    "pos = nx.spring_layout(G, weight='logident')\n",
    "nx.draw(G, pos)"
   ]
  },
  {
   "cell_type": "code",
   "execution_count": null,
   "metadata": {
    "collapsed": false
   },
   "outputs": [],
   "source": [
    "for SG in nx.connected_component_subgraphs(G):\n",
    "    print(len(SG.nodes()))"
   ]
  },
  {
   "cell_type": "code",
   "execution_count": null,
   "metadata": {
    "collapsed": false,
    "scrolled": true
   },
   "outputs": [],
   "source": [
    "for c in nx.find_cliques(G):\n",
    "    print(c)"
   ]
  },
  {
   "cell_type": "code",
   "execution_count": null,
   "metadata": {
    "collapsed": true
   },
   "outputs": [],
   "source": [
    "# Create graph\n",
    "H = nx.Graph()\n",
    "\n",
    "# Add nodes, then loop over rows in node data, adding edges\n",
    "for node in node_names:\n",
    "    H.add_node(node)\n",
    "\n",
    "errs = node_data.apply(add_edge, axis=1, args=(H,), cov_thresh=0.9)"
   ]
  },
  {
   "cell_type": "code",
   "execution_count": null,
   "metadata": {
    "collapsed": false
   },
   "outputs": [],
   "source": [
    "nx.draw(H)"
   ]
  },
  {
   "cell_type": "code",
   "execution_count": null,
   "metadata": {
    "collapsed": false
   },
   "outputs": [],
   "source": [
    "for c in nx.find_cliques(H):\n",
    "    print(c)"
   ]
  },
  {
   "cell_type": "code",
   "execution_count": null,
   "metadata": {
    "collapsed": false
   },
   "outputs": [],
   "source": [
    "edgelist = H.edges(data='identity')\n",
    "for e in edgelist:\n",
    "    if e[-1] < 0.95:\n",
    "        H.remove_edge(e[0], e[1])"
   ]
  },
  {
   "cell_type": "code",
   "execution_count": null,
   "metadata": {
    "collapsed": false
   },
   "outputs": [],
   "source": [
    "nx.draw(H)"
   ]
  },
  {
   "cell_type": "code",
   "execution_count": null,
   "metadata": {
    "collapsed": false
   },
   "outputs": [],
   "source": [
    "for c in nx.find_cliques(H):\n",
    "    print(len(c), c)"
   ]
  },
  {
   "cell_type": "code",
   "execution_count": null,
   "metadata": {
    "collapsed": false
   },
   "outputs": [],
   "source": [
    "len(H.nodes())"
   ]
  },
  {
   "cell_type": "code",
   "execution_count": null,
   "metadata": {
    "collapsed": true
   },
   "outputs": [],
   "source": [
    "edgelist = H.edges(data='identity')\n",
    "for e in edgelist:\n",
    "    if e[-1] < 0.999:\n",
    "        H.remove_edge(e[0], e[1])"
   ]
  },
  {
   "cell_type": "code",
   "execution_count": null,
   "metadata": {
    "collapsed": false
   },
   "outputs": [],
   "source": [
    "nx.draw(H)"
   ]
  },
  {
   "cell_type": "code",
   "execution_count": null,
   "metadata": {
    "collapsed": false
   },
   "outputs": [],
   "source": [
    "for c in nx.find_cliques(H):\n",
    "    print(len(c), c)"
   ]
  },
  {
   "cell_type": "code",
   "execution_count": null,
   "metadata": {
    "collapsed": true
   },
   "outputs": [],
   "source": []
  }
 ],
 "metadata": {
  "kernelspec": {
   "display_name": "Python 3",
   "language": "python",
   "name": "python3"
  }
 },
 "nbformat": 4,
 "nbformat_minor": 0
}
