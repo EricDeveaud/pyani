{
 "metadata": {
  "name": ""
 },
 "nbformat": 3,
 "nbformat_minor": 0,
 "worksheets": [
  {
   "cells": [
    {
     "cell_type": "heading",
     "level": 1,
     "metadata": {},
     "source": [
      "Using `pyani` as a module"
     ]
    },
    {
     "cell_type": "markdown",
     "metadata": {},
     "source": [
      "This notebook presents an introductory example of using the `pyani` module as a Python module, rather than using the helper script."
     ]
    },
    {
     "cell_type": "code",
     "collapsed": false,
     "input": [
      "import os\n",
      "\n",
      "from pyani import pyani_files"
     ],
     "language": "python",
     "metadata": {},
     "outputs": [],
     "prompt_number": 1
    },
    {
     "cell_type": "heading",
     "level": 1,
     "metadata": {},
     "source": [
      "1. Introduction"
     ]
    },
    {
     "cell_type": "markdown",
     "metadata": {},
     "source": [
      "A typical use case for `pyani` would be to\n",
      "\n",
      "1. Identify a set of genome files\n",
      "2. Apply an ANI algorithm (ANIb, ANIm, ANIblastall, TETRA)\n",
      "3. Generate output\n",
      "\n",
      "The module's helper script wraps this process up with a range of command-line options and logging, so the module can be used as if it were a standalone program. Sometimes you may want to run ANI programmatically, and that is what this notebook will focus on."
     ]
    },
    {
     "cell_type": "heading",
     "level": 2,
     "metadata": {},
     "source": [
      "2. Using `pyani` as a module"
     ]
    },
    {
     "cell_type": "heading",
     "level": 3,
     "metadata": {},
     "source": [
      "2a. Specifying input files"
     ]
    },
    {
     "cell_type": "markdown",
     "metadata": {},
     "source": [
      "`pyani` expects FASTA sequence files, where each individual file represents a single organism. It does not matter greatly that the FASTA sequence represents a complete, closed genome or a fragment in multiple parts. It doesn't matter whether the file contains a chromosome and a plasmid (or plasmids). Each file should, however, represent a different organism/isolate to be compared."
     ]
    },
    {
     "cell_type": "markdown",
     "metadata": {},
     "source": [
      "Although the helper script expects all input FASTA files to be in the same directory, this is not true when using the module programmatically. Any list of valid paths to FASTA files can be used."
     ]
    },
    {
     "cell_type": "code",
     "collapsed": false,
     "input": [
      "accessions = ('NC_002696', 'NC_011916', 'NC_010338', 'NC_014100')\n",
      "datadir = os.path.join('..', 'tests', 'test_ani_data')\n",
      "filelist1 = [os.path.join(datadir, '%s.fna' % f) for f in accessions]\n",
      "print(filelist1)"
     ],
     "language": "python",
     "metadata": {},
     "outputs": [
      {
       "output_type": "stream",
       "stream": "stdout",
       "text": [
        "['../tests/test_ani_data/NC_002696.fna', '../tests/test_ani_data/NC_011916.fna', '../tests/test_ani_data/NC_010338.fna', '../tests/test_ani_data/NC_014100.fna']\n"
       ]
      }
     ],
     "prompt_number": 2
    },
    {
     "cell_type": "markdown",
     "metadata": {},
     "source": [
      "You can also use one of the module functions to collect all FASTA files from a single directory, if that is helpful:"
     ]
    },
    {
     "cell_type": "code",
     "collapsed": false,
     "input": [
      "filelist2 = pyani_files.get_fasta_files(datadir)\n",
      "print(filelist2)"
     ],
     "language": "python",
     "metadata": {},
     "outputs": [
      {
       "output_type": "stream",
       "stream": "stdout",
       "text": [
        "['../tests/test_ani_data/NC_002696.fna', '../tests/test_ani_data/NC_010338.fna', '../tests/test_ani_data/NC_011916.fna', '../tests/test_ani_data/NC_014100.fna']\n"
       ]
      }
     ],
     "prompt_number": 4
    },
    {
     "cell_type": "markdown",
     "metadata": {},
     "source": []
    }
   ],
   "metadata": {}
  }
 ]
}